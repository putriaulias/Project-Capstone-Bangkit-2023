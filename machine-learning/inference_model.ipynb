{
 "cells": [
  {
   "cell_type": "code",
   "execution_count": 1,
   "metadata": {},
   "outputs": [],
   "source": [
    "import tensorflow as tf\n",
    "import numpy as np\n",
    "from tensorflow.keras.preprocessing import image"
   ]
  },
  {
   "cell_type": "code",
   "execution_count": 2,
   "metadata": {},
   "outputs": [
    {
     "name": "stdout",
     "output_type": "stream",
     "text": [
      "WARNING:tensorflow:No training configuration found in the save file, so the model was *not* compiled. Compile it manually.\n"
     ]
    }
   ],
   "source": [
    "model2 = tf.keras.models.load_model('./saved_models/my_model.h5')\n",
    "model1 = tf.keras.models.load_model('./saved_models/keras_model.h5')"
   ]
  },
  {
   "cell_type": "code",
   "execution_count": 3,
   "metadata": {},
   "outputs": [
    {
     "name": "stdout",
     "output_type": "stream",
     "text": [
      "Model: \"sequential_8\"\n",
      "_________________________________________________________________\n",
      " Layer (type)                Output Shape              Param #   \n",
      "=================================================================\n",
      " sequential_5 (Sequential)   (None, 1280)              410208    \n",
      "                                                                 \n",
      " sequential_7 (Sequential)   (None, 2)                 128300    \n",
      "                                                                 \n",
      "=================================================================\n",
      "Total params: 538,508\n",
      "Trainable params: 524,428\n",
      "Non-trainable params: 14,080\n",
      "_________________________________________________________________\n"
     ]
    }
   ],
   "source": [
    "model1.summary()"
   ]
  },
  {
   "cell_type": "code",
   "execution_count": 4,
   "metadata": {},
   "outputs": [
    {
     "name": "stdout",
     "output_type": "stream",
     "text": [
      "Model: \"sequential\"\n",
      "_________________________________________________________________\n",
      " Layer (type)                Output Shape              Param #   \n",
      "=================================================================\n",
      " mobilenetv2_1.00_224 (Funct  (None, 7, 7, 1280)       2257984   \n",
      " ional)                                                          \n",
      "                                                                 \n",
      " flatten (Flatten)           (None, 62720)             0         \n",
      "                                                                 \n",
      " dense (Dense)               (None, 512)               32113152  \n",
      "                                                                 \n",
      " dense_1 (Dense)             (None, 10)                5130      \n",
      "                                                                 \n",
      "=================================================================\n",
      "Total params: 34,376,266\n",
      "Trainable params: 32,118,282\n",
      "Non-trainable params: 2,257,984\n",
      "_________________________________________________________________\n"
     ]
    }
   ],
   "source": [
    "model2.summary()"
   ]
  },
  {
   "cell_type": "code",
   "execution_count": 5,
   "metadata": {},
   "outputs": [],
   "source": [
    "def inference_model(path):\n",
    "  img = path\n",
    "  img = image.load_img(img, target_size=(224, 224))  # Adjust target size as per your model's input shape\n",
    "  img_array = image.img_to_array(img)\n",
    "  img_array = np.expand_dims(img_array, axis=0)\n",
    "  img_array /= 255.  # Normalize the image data\n",
    "  \n",
    "  predictions = model1.predict(img_array)\n",
    "  predicted_class = np.argmax(predictions)\n",
    "  classes = ['nails', 'not nails']\n",
    "  \n",
    "  if classes[predicted_class] == 'nails':\n",
    "    predictions = model2.predict(img_array)\n",
    "    predicted_class = np.argmax(predictions)\n",
    "    classes = ['Acral Lentiginous Melanoma', 'Beaus Line', 'Blue Finger', 'Clubbing',\n",
    "              'Healthy Nail', 'Koilonychia', 'Muehrckes Lines', 'Onychogryphosis',\n",
    "              'Pitting', 'Terry-s Nail']\n",
    "    print(f\"Predicted class: {classes[predicted_class]}\")\n",
    "  \n",
    "    accuracy = predictions[0][predicted_class] * 100.0\n",
    "    print(f\"Prediction accuracy: {accuracy:.2f}%\")\n",
    "  \n",
    "  else:\n",
    "    print('It is not nails')"
   ]
  },
  {
   "cell_type": "code",
   "execution_count": 6,
   "metadata": {},
   "outputs": [
    {
     "name": "stdout",
     "output_type": "stream",
     "text": [
      "1/1 [==============================] - 3s 3s/step\n",
      "It is not nails\n"
     ]
    }
   ],
   "source": [
    "inference_model('./Inference_model/car.jpeg')"
   ]
  },
  {
   "cell_type": "code",
   "execution_count": 7,
   "metadata": {},
   "outputs": [
    {
     "name": "stdout",
     "output_type": "stream",
     "text": [
      "1/1 [==============================] - 0s 22ms/step\n",
      "1/1 [==============================] - 1s 594ms/step\n",
      "Predicted class: Healthy Nail\n",
      "Prediction accuracy: 74.25%\n"
     ]
    }
   ],
   "source": [
    "inference_model('./Inference_model/healthy.jpeg')"
   ]
  },
  {
   "cell_type": "code",
   "execution_count": 8,
   "metadata": {},
   "outputs": [],
   "source": [
    "interpreter2 = tf.lite.Interpreter(model_path='./saved_models/my_model.tflite')\n",
    "interpreter2.allocate_tensors()"
   ]
  },
  {
   "cell_type": "code",
   "execution_count": 9,
   "metadata": {},
   "outputs": [],
   "source": [
    "interpreter1 = tf.lite.Interpreter(model_path='./saved_models/keras_model.tflite')\n",
    "interpreter1.allocate_tensors()"
   ]
  },
  {
   "cell_type": "code",
   "execution_count": 10,
   "metadata": {},
   "outputs": [],
   "source": [
    "def inference_model_tflite(path):\n",
    "    img = path\n",
    "    img = image.load_img(img, target_size=(224, 224))  # Adjust target size as per your model's input shape\n",
    "    img_array = image.img_to_array(img)\n",
    "    img_array = np.expand_dims(img_array, axis=0)\n",
    "    img_array /= 255.\n",
    "    input_details1 = interpreter1.get_input_details()\n",
    "    output_details1 = interpreter1.get_output_details()\n",
    "    interpreter1.set_tensor(input_details1[0]['index'], img_array)\n",
    "    interpreter1.invoke()\n",
    "    output_data = interpreter1.get_tensor(output_details1[0]['index'])\n",
    "    classes = ['nails', 'not nails']\n",
    "    predicted_class = np.argmax(output_data)\n",
    "    print(f\"Predicted class: {classes[predicted_class]}\")\n",
    "    if classes[predicted_class] == 'nails':\n",
    "        input_details2 = interpreter1.get_input_details()\n",
    "        output_details2 = interpreter1.get_output_details()\n",
    "        interpreter2.set_tensor(input_details2[0]['index'], img_array)\n",
    "        interpreter2.invoke()\n",
    "        output_data = interpreter2.get_tensor(output_details2[0]['index'])\n",
    "        classes = ['Acral Lentiginous Melanoma', 'Beaus Line', 'Blue Finger', 'Clubbing',\n",
    "              'Healthy Nail', 'Koilonychia', 'Muehrckes Lines', 'Onychogryphosis',\n",
    "              'Pitting', 'Terry-s Nail']\n",
    "        predicted_class = np.argmax(output_data)\n",
    "        print(f\"Predicted class: {classes[predicted_class]}\")\n",
    "        \n",
    "        accuracy = output_data[0][predicted_class] * 100.0\n",
    "        print(f\"Prediction accuracy: {accuracy:.2f}%\")\n",
    "    else:\n",
    "       print('It is not nails')"
   ]
  },
  {
   "cell_type": "code",
   "execution_count": 11,
   "metadata": {},
   "outputs": [
    {
     "name": "stdout",
     "output_type": "stream",
     "text": [
      "Predicted class: nails\n",
      "Predicted class: Healthy Nail\n",
      "Prediction accuracy: 73.54%\n"
     ]
    }
   ],
   "source": [
    "inference_model_tflite('./Inference_model/healthy.jpeg')"
   ]
  },
  {
   "cell_type": "code",
   "execution_count": 12,
   "metadata": {},
   "outputs": [
    {
     "name": "stdout",
     "output_type": "stream",
     "text": [
      "1/1 [==============================] - 0s 23ms/step\n",
      "It is not nails\n"
     ]
    }
   ],
   "source": [
    "inference_model('./Inference_model/car.jpeg')"
   ]
  },
  {
   "cell_type": "code",
   "execution_count": 13,
   "metadata": {},
   "outputs": [
    {
     "name": "stdout",
     "output_type": "stream",
     "text": [
      "1/1 [==============================] - 0s 23ms/step\n",
      "It is not nails\n"
     ]
    }
   ],
   "source": [
    "inference_model('./Inference_model/laut.jpeg')"
   ]
  }
 ],
 "metadata": {
  "kernelspec": {
   "display_name": "tf",
   "language": "python",
   "name": "python3"
  },
  "language_info": {
   "codemirror_mode": {
    "name": "ipython",
    "version": 3
   },
   "file_extension": ".py",
   "mimetype": "text/x-python",
   "name": "python",
   "nbconvert_exporter": "python",
   "pygments_lexer": "ipython3",
   "version": "3.9.16"
  },
  "orig_nbformat": 4
 },
 "nbformat": 4,
 "nbformat_minor": 2
}
